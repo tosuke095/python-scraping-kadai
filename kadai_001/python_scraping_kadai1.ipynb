{
  "nbformat": 4,
  "nbformat_minor": 0,
  "metadata": {
    "colab": {
      "provenance": [],
      "authorship_tag": "ABX9TyOJ5COsPeZgAn1YQzw6Ccl+",
      "include_colab_link": true
    },
    "kernelspec": {
      "name": "python3",
      "display_name": "Python 3"
    },
    "language_info": {
      "name": "python"
    }
  },
  "cells": [
    {
      "cell_type": "markdown",
      "metadata": {
        "id": "view-in-github",
        "colab_type": "text"
      },
      "source": [
        "<a href=\"https://colab.research.google.com/github/tosuke095/python-scraping-kadai/blob/main/python_scraping_kadai1.ipynb\" target=\"_parent\"><img src=\"https://colab.research.google.com/assets/colab-badge.svg\" alt=\"Open In Colab\"/></a>"
      ]
    },
    {
      "cell_type": "code",
      "execution_count": 3,
      "metadata": {
        "colab": {
          "base_uri": "https://localhost:8080/"
        },
        "id": "cyox6Ay7VeRO",
        "outputId": "fe5f509c-c377-493e-96db-9f5c5344b81e"
      },
      "outputs": [
        {
          "output_type": "stream",
          "name": "stdout",
          "text": [
            "Requirement already satisfied: requests in /usr/local/lib/python3.11/dist-packages (2.32.3)\n",
            "Requirement already satisfied: beautifulsoup4 in /usr/local/lib/python3.11/dist-packages (4.13.4)\n",
            "Requirement already satisfied: charset-normalizer<4,>=2 in /usr/local/lib/python3.11/dist-packages (from requests) (3.4.1)\n",
            "Requirement already satisfied: idna<4,>=2.5 in /usr/local/lib/python3.11/dist-packages (from requests) (3.10)\n",
            "Requirement already satisfied: urllib3<3,>=1.21.1 in /usr/local/lib/python3.11/dist-packages (from requests) (2.3.0)\n",
            "Requirement already satisfied: certifi>=2017.4.17 in /usr/local/lib/python3.11/dist-packages (from requests) (2025.1.31)\n",
            "Requirement already satisfied: soupsieve>1.2 in /usr/local/lib/python3.11/dist-packages (from beautifulsoup4) (2.7)\n",
            "Requirement already satisfied: typing-extensions>=4.0.0 in /usr/local/lib/python3.11/dist-packages (from beautifulsoup4) (4.13.2)\n"
          ]
        }
      ],
      "source": [
        "!pip install requests beautifulsoup4"
      ]
    },
    {
      "cell_type": "code",
      "source": [
        "import requests\n",
        "from bs4 import BeautifulSoup"
      ],
      "metadata": {
        "id": "uY1CvCXsYfGB"
      },
      "execution_count": 4,
      "outputs": []
    },
    {
      "cell_type": "code",
      "source": [
        "url = 'https://news.yahoo.co.jp/articles/168b87ed6e9167bc4cfa700c04eaea96a6cdaf0c'\n",
        "response = requests.get(url)\n",
        "soup = BeautifulSoup(response.text, 'html.parser')"
      ],
      "metadata": {
        "id": "xMI_7A82Y-LB"
      },
      "execution_count": 5,
      "outputs": []
    },
    {
      "cell_type": "code",
      "source": [
        "title_element = soup.select_one('#uamods > div > div> p')\n",
        "title = title_element.text\n",
        "print(title)"
      ],
      "metadata": {
        "colab": {
          "base_uri": "https://localhost:8080/"
        },
        "id": "iczA7g8AZP_E",
        "outputId": "6081697e-8fa1-43d7-a752-b22b713195dc"
      },
      "execution_count": 8,
      "outputs": [
        {
          "output_type": "stream",
          "name": "stdout",
          "text": [
            "　野党は23日、石破茂首相の党首討論での答弁を受け「正直、期待外れだ」（日本維新の会の前原誠司共同代表）と批判した。自民党からは「首相はしっかり答えていた」（渡海紀三朗政治改革本部長）と評価する声が上がった。\n",
            "\n",
            "【写真】政府から目の敵にされても　関口宏さんが論じる「テレビ屋」６０余年\n"
          ]
        }
      ]
    },
    {
      "cell_type": "code",
      "source": [],
      "metadata": {
        "id": "QkONvQdvZdBT",
        "colab": {
          "base_uri": "https://localhost:8080/"
        },
        "outputId": "7082c4eb-cffb-496e-9161-ddac13b6fa25"
      },
      "execution_count": null,
      "outputs": [
        {
          "output_type": "stream",
          "name": "stdout",
          "text": [
            "{'args': {'key': 'value'},\n",
            " 'headers': {'Accept': '*/*',\n",
            "             'Accept-Encoding': 'gzip, deflate, zstd',\n",
            "             'Host': 'httpbin.org',\n",
            "             'User-Agent': 'python-requests/2.32.3',\n",
            "             'X-Amzn-Trace-Id': 'Root=1-6808d9b6-72ecadf7715cd2053382c22e'},\n",
            " 'origin': '35.234.16.185',\n",
            " 'url': 'https://httpbin.org/get?key=value'}\n"
          ]
        }
      ]
    },
    {
      "cell_type": "code",
      "source": [],
      "metadata": {
        "id": "aYLq239Nkm6i"
      },
      "execution_count": null,
      "outputs": []
    }
  ]
}
