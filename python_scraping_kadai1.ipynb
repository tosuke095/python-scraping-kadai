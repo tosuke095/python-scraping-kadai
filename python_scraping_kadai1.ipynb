{
  "nbformat": 4,
  "nbformat_minor": 0,
  "metadata": {
    "colab": {
      "provenance": [],
      "authorship_tag": "ABX9TyM89Nzs4a268AyQrgnY29ir",
      "include_colab_link": true
    },
    "kernelspec": {
      "name": "python3",
      "display_name": "Python 3"
    },
    "language_info": {
      "name": "python"
    }
  },
  "cells": [
    {
      "cell_type": "markdown",
      "metadata": {
        "id": "view-in-github",
        "colab_type": "text"
      },
      "source": [
        "<a href=\"https://colab.research.google.com/github/tosuke095/python-scraping-kadai/blob/main/python_scraping_kadai1.ipynb\" target=\"_parent\"><img src=\"https://colab.research.google.com/assets/colab-badge.svg\" alt=\"Open In Colab\"/></a>"
      ]
    },
    {
      "cell_type": "code",
      "execution_count": null,
      "metadata": {
        "colab": {
          "base_uri": "https://localhost:8080/"
        },
        "id": "cyox6Ay7VeRO",
        "outputId": "94679279-e70f-49b7-f47e-a63aa6f0367b"
      },
      "outputs": [
        {
          "output_type": "stream",
          "name": "stdout",
          "text": [
            "Requirement already satisfied: requests in /usr/local/lib/python3.11/dist-packages (2.32.3)\n",
            "Requirement already satisfied: beautifulsoup4 in /usr/local/lib/python3.11/dist-packages (4.13.4)\n",
            "Requirement already satisfied: charset-normalizer<4,>=2 in /usr/local/lib/python3.11/dist-packages (from requests) (3.4.1)\n",
            "Requirement already satisfied: idna<4,>=2.5 in /usr/local/lib/python3.11/dist-packages (from requests) (3.10)\n",
            "Requirement already satisfied: urllib3<3,>=1.21.1 in /usr/local/lib/python3.11/dist-packages (from requests) (2.3.0)\n",
            "Requirement already satisfied: certifi>=2017.4.17 in /usr/local/lib/python3.11/dist-packages (from requests) (2025.1.31)\n",
            "Requirement already satisfied: soupsieve>1.2 in /usr/local/lib/python3.11/dist-packages (from beautifulsoup4) (2.6)\n",
            "Requirement already satisfied: typing-extensions>=4.0.0 in /usr/local/lib/python3.11/dist-packages (from beautifulsoup4) (4.13.2)\n"
          ]
        }
      ],
      "source": [
        "!pip install requests beautifulsoup4"
      ]
    },
    {
      "cell_type": "code",
      "source": [
        "import requests\n",
        "from bs4 import BeautifulSoup"
      ],
      "metadata": {
        "id": "uY1CvCXsYfGB"
      },
      "execution_count": null,
      "outputs": []
    },
    {
      "cell_type": "code",
      "source": [
        "url = 'https://news.yahoo.co.jp/articles/168b87ed6e9167bc4cfa700c04eaea96a6cdaf0c'\n",
        "response = requests.get(url)\n",
        "soup = BeautifulSoup(response.text, 'html.parser')"
      ],
      "metadata": {
        "id": "xMI_7A82Y-LB"
      },
      "execution_count": null,
      "outputs": []
    },
    {
      "cell_type": "code",
      "source": [
        "title_element = soup.select_one('#uamods > div.article_body')\n",
        "title = title_element.text\n",
        "print(title)"
      ],
      "metadata": {
        "colab": {
          "base_uri": "https://localhost:8080/"
        },
        "id": "iczA7g8AZP_E",
        "outputId": "031f525c-a218-4894-a50e-d0af22386bf0"
      },
      "execution_count": 11,
      "outputs": [
        {
          "output_type": "stream",
          "name": "stdout",
          "text": [
            "国会で開かれた党首討論＝23日午後　野党は23日、石破茂首相の党首討論での答弁を受け「正直、期待外れだ」（日本維新の会の前原誠司共同代表）と批判した。自民党からは「首相はしっかり答えていた」（渡海紀三朗政治改革本部長）と評価する声が上がった。\n",
            "\n",
            "【写真】政府から目の敵にされても　関口宏さんが論じる「テレビ屋」６０余年　立憲民主党の野田佳彦代表は、トランプ米政権の関税措置を取り上げた理由について「国難だと思っている。このテーマでしっかり議論することが大事だ」と記者団に説明。日本政府の交渉姿勢に触れ「急きょトランプ大統領が交渉に出てきて、慌てていた。万全の態勢とは言えず、猛省してほしい」と指摘した。\n",
            "\n",
            "　前原氏は、党首討論で日米安全保障条約の見直しと憲法改正を訴えたが「首相は一般論に終始し、何をやりたいのかが感じられなかった」と語った。\n",
            "\n",
            "　国民民主党の玉木雄一郎代表は、首相がガソリン税の暫定税率の廃止時期を明言しなかったことに関し「極めて不誠実だ」と反発。首相の答弁に対しては「危機感を感じなかった。国民は物価高に困っている。庶民感覚からかけ離れている」と非難した。\n"
          ]
        }
      ]
    },
    {
      "cell_type": "code",
      "source": [],
      "metadata": {
        "id": "QkONvQdvZdBT"
      },
      "execution_count": null,
      "outputs": []
    }
  ]
}